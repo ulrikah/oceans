{
 "cells": [
  {
   "cell_type": "code",
   "execution_count": 1,
   "metadata": {},
   "outputs": [],
   "source": [
    "import pandas as pd\n",
    "import numpy as np\n",
    "import os, sys\n",
    "import time"
   ]
  },
  {
   "cell_type": "code",
   "execution_count": 2,
   "metadata": {},
   "outputs": [
    {
     "name": "stdout",
     "output_type": "stream",
     "text": [
      "['yellow.txt', 'blue.txt', 'dataset_100_rows.csv', 'csv_parser.ipynb', 'readme.md', 'red.txt', '.ipynb_checkpoints', '190516_m2b_marine_biota.csv', 'dataset.csv', '190516_m2b_marine_biota.json']\n"
     ]
    }
   ],
   "source": [
    "'''\n",
    "# Table with information about the dataset:\n",
    "# https://www.nature.com/articles/s41597-019-0219-y/tables/2?draft=collection\n",
    "\n",
    "Download the dataset and place it in a folder that is reachable from this notebook.\n",
    "\n",
    "Set DATA_PATH to the filename of the CSV file.\n",
    "\n",
    "You can use os.listdir('./') to see which files are in the same directory as your notebook\n",
    "'''\n",
    "\n",
    "print(os.listdir('./'))\n",
    "DATA_PATH = './190516_m2b_marine_biota.csv'"
   ]
  },
  {
   "cell_type": "code",
   "execution_count": 5,
   "metadata": {},
   "outputs": [
    {
     "name": "stdout",
     "output_type": "stream",
     "text": [
      "Shape before trim: (24465, 11)\n",
      "Shape after trim: (9863, 11)\n",
      "Exporting dataset with 11 columns and 9863 rows\n"
     ]
    }
   ],
   "source": [
    "df = pd.read_csv(DATA_PATH, delimiter=\";\")\n",
    "\n",
    "relevant_columns = [\n",
    "    'samp_date', # renamed to 'years' later\n",
    "    'country',\n",
    "    'mea_ug_kg_orig', # mean mercury concentration\n",
    "    'troph_lev',\n",
    "    'mar_habit',\n",
    "    'location',\n",
    "    'lenght_cm',\n",
    "    'weight_g',\n",
    "    'tissue_cod',\n",
    "    'spec_nam_s',\n",
    "    'hg_species'\n",
    "    # 'age_y' # so many blank rows that we leave this one out\n",
    "]\n",
    "\n",
    "df = df[relevant_columns].copy()\n",
    "df.dropna() # remove missing values\n",
    "\n",
    "# parse dates to integer years and rename column to 'years'\n",
    "df['samp_date'] = df['samp_date'].apply(lambda s_time: time.strptime(s_time, '%Y-%m-%d').tm_year)\n",
    "df = df.rename(columns={'samp_date': 'year'})\n",
    "\n",
    "# remove all rows whose numerical col value == -9999.0, which is the none type format in the dataset\n",
    "print(f\"Shape before trim: {df.shape}\")\n",
    "for col in df.columns:\n",
    "    df = df[df[col] != -9999.0]\n",
    "print(f\"Shape after trim: {df.shape}\")\n",
    "\n",
    "# encode string valued columns to integer ids\n",
    "cols_to_encode = [\n",
    "    'country',\n",
    "    'mar_habit',\n",
    "    'location',\n",
    "    'spec_nam_s',\n",
    "    'tissue_cod',\n",
    "    'hg_species'\n",
    "]\n",
    "\n",
    "# TO DO: make a remainder dataframe for the keys so that it's interpretable what the data mean\n",
    "for col in cols_to_encode:\n",
    "    df[col], key = df[col].factorize() # key corresponds to e.g. country codes (IT, ES, MR etc.)\n",
    "\n",
    "df.sort_values(by=['year'], inplace=True)\n",
    "\n",
    "# restart row count\n",
    "df = df.reset_index()\n",
    "df = df.drop(columns=['index'])\n",
    "\n",
    "# export to CSV\n",
    "print(f\"Exporting dataset with {df.shape[1]} columns and {df.shape[0]} rows\")\n",
    "# df.to_csv(\"dataset.csv\", index_label='id')\n",
    "df[:100].to_json(\"dataset.json\")"
   ]
  },
  {
   "cell_type": "code",
   "execution_count": 82,
   "metadata": {},
   "outputs": [
    {
     "name": "stdout",
     "output_type": "stream",
     "text": [
      "[3 6 5 1]\n"
     ]
    },
    {
     "data": {
      "text/plain": [
       "'\\n# a set of subsequent years that all have more than 9 entries\\nyears = [1973, 1974, 1975, 1976, 1977, 1978, 1979, 1980, \\n         1981, 1982, 1983, 1984, 1985, 1986, 1987, 1988, 1989, \\n         1990, 1991, 1992, 1993, 1995, 1996, 1997, 1998, 1999, \\n         2000, 2001, 2002, 2003, 2004, 2005, 2006, 2008, 2010, 2011, 2012]        \\n'"
      ]
     },
     "execution_count": 82,
     "metadata": {},
     "output_type": "execute_result"
    }
   ],
   "source": [
    "# df.loc['year']\n",
    "'''\n",
    "print(df['year'].unique())\n",
    "mean_hg = df[df['year'] == 1971]['mea_ug_kg_orig'].mean()\n",
    "print(mean_hg)\n",
    "df\n",
    "'''\n",
    "# df.loc[:,'mea_ug_kg_orig'] = mean_hg\n",
    "\n",
    "years = []\n",
    "for year in list(df['year'].unique()):\n",
    "    if len(df[df['year'] == year]) > 9:\n",
    "        years.append(year)\n",
    "\n",
    "print(df[df['year'] == 1971]['country'].unique())\n",
    "                \n",
    "'''\n",
    "# a set of subsequent years that all have more than 9 entries\n",
    "years = [1973, 1974, 1975, 1976, 1977, 1978, 1979, 1980, \n",
    "         1981, 1982, 1983, 1984, 1985, 1986, 1987, 1988, 1989, \n",
    "         1990, 1991, 1992, 1993, 1995, 1996, 1997, 1998, 1999, \n",
    "         2000, 2001, 2002, 2003, 2004, 2005, 2006, 2008, 2010, 2011, 2012]        \n",
    "'''"
   ]
  },
  {
   "cell_type": "code",
   "execution_count": null,
   "metadata": {},
   "outputs": [],
   "source": [
    "'''\n",
    "This block splits dataset into blue, yellow and red of the following format:\n",
    "\n",
    "[blue]: index, year col1 col2 col3\n",
    "[red]: index, year col4 col5 col6\n",
    "[yellow]: index, year col7 col8 col9\n",
    "\n",
    "'''\n",
    "\n",
    "\n",
    "# only use 20 counties\n",
    "df = df[df['country'] < 20]\n",
    "\n",
    "cols = df.columns.to_list()[2:] # don't use year and country\n",
    "idx = len(cols) // 3 # number of cols must be a multiple of 3 as of now\n",
    "\n",
    "index = [str(i) + \",\" for i in list(np.arange(1, df.shape[0] + 1))]\n",
    "df['index'] = index\n",
    "index_col = df.pop('index')\n",
    "df.insert(0, 'index', index_col)\n",
    "\n",
    "colors = ['blue', 'red', 'yellow']\n",
    "rgb_cols = [cols[idx*i:idx*(i+1)] for i, c in enumerate(colors)]\n",
    "rgb_df = [df[['index', 'year', 'country'] + rgb_cols[i]] for i, c in enumerate(rgb_cols)]\n",
    "\n",
    "for i, frame in enumerate(rgb_df):\n",
    "    print(f\"Exporting dataset {colors[i]}.txt with {frame.shape[1]} columns and {df.shape[0]} rows\")\n",
    "    frame.to_csv(f\"{colors[i]}.txt\", \n",
    "        sep=\" \", \n",
    "        line_terminator= \";\" + os.linesep, # os.linesep is the native newline\n",
    "        header=False,\n",
    "        index=False\n",
    "    )"
   ]
  }
 ],
 "metadata": {
  "kernelspec": {
   "display_name": "Python 3",
   "language": "python",
   "name": "python3"
  },
  "language_info": {
   "codemirror_mode": {
    "name": "ipython",
    "version": 3
   },
   "file_extension": ".py",
   "mimetype": "text/x-python",
   "name": "python",
   "nbconvert_exporter": "python",
   "pygments_lexer": "ipython3",
   "version": "3.7.5"
  }
 },
 "nbformat": 4,
 "nbformat_minor": 2
}
